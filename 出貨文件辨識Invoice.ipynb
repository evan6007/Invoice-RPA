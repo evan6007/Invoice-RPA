{
 "cells": [
  {
   "cell_type": "markdown",
   "id": "5bdee33f",
   "metadata": {},
   "source": [
    "# 出貨文件辨識"
   ]
  },
  {
   "cell_type": "code",
   "execution_count": 90,
   "id": "3121b0e6",
   "metadata": {},
   "outputs": [],
   "source": [
    "import pytesseract\n",
    "from PIL import Image\n",
    "import re\n",
    "import csv\n",
    "import pandas as pd\n",
    "import numpy as np\n",
    "import math\n",
    "import tabula\n",
    "from glob import glob\n",
    "\n",
    "import cv2\n",
    "import numpy as np\n",
    "import pytesseract\n",
    "\n",
    "import aircv as ac\n",
    "import pyautogui\n",
    "import matplotlib.pyplot as plt\n",
    "\n",
    "import re\n",
    "import sys\n",
    "import fitz\n",
    "pytesseract.pytesseract.tesseract_cmd = 'C://Program Files/TesseractOCR/tesseract.exe'"
   ]
  },
  {
   "cell_type": "code",
   "execution_count": 91,
   "id": "1096a618",
   "metadata": {},
   "outputs": [],
   "source": [
    "#要辨識的PDF\n",
    "import shutil\n",
    "import os \n",
    "invoice_pdf_path=\"8000102855IN.pdf\"\n",
    "\n",
    "#重建資料夾\n",
    "shutil.rmtree('./invoice_pdf_jpg_result')\n",
    "os.mkdir('./invoice_pdf_jpg_result')\n",
    "\n",
    "\n"
   ]
  },
  {
   "cell_type": "markdown",
   "id": "b5110812",
   "metadata": {},
   "source": [
    "# PDF轉JPG"
   ]
  },
  {
   "cell_type": "code",
   "execution_count": 92,
   "id": "06827855",
   "metadata": {},
   "outputs": [
    {
     "name": "stdout",
     "output_type": "stream",
     "text": [
      "總共1頁\n"
     ]
    }
   ],
   "source": [
    "#PDF轉JPG\n",
    "import glob\n",
    "zoom_x = 4.0  # horizontal zoom\n",
    "zoom_y = 4.0  # vertical zoom\n",
    "mat = fitz.Matrix(zoom_x, zoom_y)  # zoom factor 2 in each dimension\n",
    "\n",
    "all_files = glob.glob(invoice_pdf_path)\n",
    "\n",
    "for filename in all_files:\n",
    "    doc = fitz.open(filename)  # open document\n",
    "    for page in doc:  # iterate through the pages\n",
    "        pix = page.get_pixmap(matrix=mat)  # render page to an image\n",
    "        pix.save(\"./invoice_pdf_jpg_result/page-%i.png\" % page.number)  # store image as a PNG\n",
    "        \n",
    "print(\"總共\"+str(int(page.number)+1)+\"頁\" )"
   ]
  },
  {
   "cell_type": "markdown",
   "id": "b5110812",
   "metadata": {},
   "source": [
    "# 切表格"
   ]
  },
  {
   "cell_type": "code",
   "execution_count": 93,
   "id": "7488a6f5",
   "metadata": {},
   "outputs": [],
   "source": [
    "#辨識出表格位置\n",
    "for i in range(int(page.number)+1):\n",
    "    pdfimg_path=\"./invoice_pdf_jpg_result/page-\"+str(i)+\".png\"\n",
    "    image = cv2.imread(pdfimg_path)\n",
    "\n",
    "    gray_scale=cv2.cvtColor(image,cv2.COLOR_BGR2GRAY)\n",
    "    th1,img_bin = cv2.threshold(gray_scale,150,225,cv2.THRESH_BINARY)\n",
    "\n",
    "    canvas_black = np.zeros((image.shape[0],image.shape[1],image.shape[2]), dtype=\"uint8\")\n",
    "\n",
    "    img_bin=~img_bin\n",
    "\n",
    "    line_min_width = 15\n",
    "    kernal_h = np.ones((1,line_min_width), np.uint8)\n",
    "    kernal_v = np.ones((line_min_width,1), np.uint8)\n",
    "\n",
    "    img_bin_h = cv2.morphologyEx(img_bin, cv2.MORPH_OPEN, kernal_h)\n",
    "    img_bin_v = cv2.morphologyEx(img_bin, cv2.MORPH_OPEN, kernal_v)\n",
    "\n",
    "    img_bin_final=img_bin_h|img_bin_v\n",
    "\n",
    "    _, labels, stats,_ = cv2.connectedComponentsWithStats(~img_bin_final, connectivity=8, ltype=cv2.CV_32S)\n",
    "\n",
    "    for x,y,w,h,area in stats[2:]:\n",
    "        cv2.rectangle(canvas_black,(x,y),(x+w,y+h),(255,255,255),-1)\n",
    "    \n",
    "    cv2.imwrite(\"./table_result/canvas_black\"+str(i)+\".jpg\",canvas_black)"
   ]
  },
  {
   "cell_type": "markdown",
   "id": "fd2cfed8",
   "metadata": {},
   "source": [
    "# 依照canvas_black的圖片裁剪出表格與非表格"
   ]
  },
  {
   "cell_type": "code",
   "execution_count": 94,
   "id": "2a5ff902",
   "metadata": {},
   "outputs": [
    {
     "name": "stdout",
     "output_type": "stream",
     "text": [
      "0\n"
     ]
    }
   ],
   "source": [
    "\n",
    "for i in range(int(page.number)+1):\n",
    "    print(i)\n",
    "    pdfimg_path=\"./invoice_pdf_jpg_result/page-\"+str(i)+\".png\"\n",
    "    image = cv2.imread(pdfimg_path)\n",
    "    non_table_img=image.copy()\n",
    "    original_img=image.copy()\n",
    "    \n",
    "    canvas_path=\"./table_result/canvas_black\"+str(i)+\".jpg\"\n",
    "    canvas_black = cv2.imread(canvas_path)\n",
    "    \n",
    "    gray = cv2.cvtColor(canvas_black, cv2.COLOR_BGR2GRAY)\n",
    "    ret, binary = cv2.threshold(gray, 100, 255, cv2.THRESH_BINARY) \n",
    "    # 1. 膨脹和腐蝕操作的核函數\n",
    "    element1 = cv2.getStructuringElement(cv2.MORPH_RECT, (60, 10))  # 30 9\n",
    "    element2 = cv2.getStructuringElement(cv2.MORPH_RECT, (30, 8))  # 24 6\n",
    "\n",
    "    # 2. 膨脹一次，讓輪廓突出\n",
    "    dilation = cv2.dilate(binary, element2, iterations=1)\n",
    "    # 3. 腐蝕一次，去掉細節，如表格線等。注意這裡去掉的是豎直的線\n",
    "    erosion = cv2.erode(dilation, element1, iterations=1)\n",
    "    # 4. 再次膨脹，讓輪廓明顯一些\n",
    "    dilation2 = cv2.dilate(erosion, element2, iterations=3)\n",
    "\n",
    "    # 7. 存儲中間圖片\n",
    "    #cv2.imwrite(\"./table_result/binary\"+str(i)+\".png\", binary)\n",
    "    #cv2.imwrite(\"./table_result/dilation\"+str(i)+\".png\", dilation)\n",
    "    #cv2.imwrite(\"./table_result/erosion\"+str(i)+\".png\", erosion)\n",
    "    cv2.imwrite(\"./table_result/dilation2\"+str(i)+\".png\", dilation2)\n",
    "\n",
    "    #用二次膨脹的圖繼續處理\n",
    "\n",
    "    # 5. 查找輪廓\n",
    "    region = []\n",
    "    contours, hierarchy = cv2.findContours(dilation2, cv2.RETR_TREE, cv2.CHAIN_APPROX_SIMPLE)\n",
    "    # 6. 篩選那些面積小的\n",
    "    for j in range(len(contours)):\n",
    "        cnt = contours[j]\n",
    "        # 計算該輪廓的面積\n",
    "        area = cv2.contourArea(cnt)\n",
    "        # 面積小的都篩選掉\n",
    "        if(area < 10000):\n",
    "            continue\n",
    "        # 找到最小的矩形，該矩形可能有方向\n",
    "        rect = cv2.minAreaRect(cnt)\n",
    "        # box是四個點的坐標\n",
    "        box = cv2.boxPoints(rect)\n",
    "        box = np.int0(box)\n",
    "        # 計算高和寬\n",
    "        height = abs(box[0][1] - box[2][1])\n",
    "        width = abs(box[0][0] - box[2][0])\n",
    "        region.append(box)\n",
    "\n",
    "    # 7.裁剪原始影像並儲存\n",
    "    table_counter=0\n",
    "    \n",
    "    #氣泡迴圈\n",
    "    for m in range(0,len(region)):\n",
    "        for n in range(m+1,len(region)):\n",
    "            if region[m][1][1] > region[n][1][1]:\n",
    "                region[m],region[n]=region[n],region[m]     \n",
    "    for box in region:\n",
    "        Xs = [i[0] for i in box]\n",
    "        Ys = [i[1] for i in box]\n",
    "        x1 = min(Xs)\n",
    "        x2 = max(Xs)\n",
    "        y1 = min(Ys)\n",
    "        y2 = max(Ys)\n",
    "        hight = y2 - y1\n",
    "        width = x2 - x1\n",
    "        crop_img = original_img[y1:y1+hight, x1:x1+width]#裁減表格範圍\n",
    "        cv2.rectangle(non_table_img,(x1,y1),(x1+width,y1+hight),(255,255,255),-1)#塗抹表格範圍，凸顯非表格\n",
    "\n",
    "        #8.存進table_result\n",
    "        cv2.imwrite(\"./table_result/table\"+str(i)+str(table_counter)+\".jpg\", crop_img)\n",
    "        table_counter=table_counter+1\n",
    "\n",
    "    #9.存進table_result 但是是存非表格\n",
    "    cv2.imwrite(\"./table_result/non_table\"+str(i)+\".jpg\", non_table_img)"
   ]
  },
  {
   "cell_type": "markdown",
   "id": "84402b36",
   "metadata": {},
   "source": [
    "# 辨識表格內容"
   ]
  },
  {
   "cell_type": "code",
   "execution_count": 95,
   "id": "b4edfab1",
   "metadata": {},
   "outputs": [
    {
     "name": "stdout",
     "output_type": "stream",
     "text": [
      "1\n",
      "[['MARKS &\\nNO\\n', 'DESCRIPTION OF GOODS\\n', 'QUANTIIY\\n', 'UNITPRICE\\nUSD\\n', 'AMMOUNT\\nUSD\\n', 'MADE IN\\nVIETNAM\\n', 'PO#8000102923\\n7/8 ELASTIC BAND WHIIE\\n7/8 ELASTIC BAND BLACK\\nPO#8000102956\\n2-1/4 ELASTIC BAND WHIIE\\n2-1/2 ELASTIC BAND WHIIE\\n2 ” ELLASTIC BAND BLACK\\nPO#8000102855\\n1-3/4 ELASTIC BAND BLACK\\n2”ELASTIC BAND BLACK\\n1/2 FELASTIC BAND BLACK\\n', '29,952.00\\n1,584.00\\n720.00\\n576.00\\n144.00\\n4,032.00\\n3,024.00\\n432.00\\n', '0.0700000\\n0.0940000\\n0.1835500\\n0.2141400\\n0.2094000\\n0.1650000\\n0.2094000\\n0.0710000\\n', '2,096.64\\n148.90\\n132.16\\n123.34\\n30.15\\n665.28\\n633.23\\n30.67\\n', '', 'GRAND TOTAL:\\n', '40464.00 Y\\n', '', '3,860.37\\n', 'SAY TOTAL DOLLARS : ITHREE THOUSAND EIGHT HUNDRED SIXTY AND CENTS ITHIRTY SEVEN ONLY.\\n']]\n"
     ]
    }
   ],
   "source": [
    "#辨識出每一個表格的格子位置\n",
    "import glob\n",
    "table_path = glob.glob(r'./table_result/table*')\n",
    "print(len(table_path))\n",
    "\n",
    "all_table_text_list=[]\n",
    "all_row=[]\n",
    "\n",
    "for i in range(len(table_path)):\n",
    "    image = cv2.imread(table_path[i])\n",
    "    #找出格子的xywh\n",
    "    gray_scale=cv2.cvtColor(image,cv2.COLOR_BGR2GRAY)\n",
    "    th1,img_bin = cv2.threshold(gray_scale,150,225,cv2.THRESH_BINARY)\n",
    "    img_bin=~img_bin\n",
    "    line_min_width = 100\n",
    "    kernal_h = np.ones((1,line_min_width), np.uint8)\n",
    "    kernal_v = np.ones((line_min_width,1), np.uint8)\n",
    "    img_bin_h = cv2.morphologyEx(img_bin, cv2.MORPH_OPEN, kernal_h)\n",
    "    img_bin_v = cv2.morphologyEx(img_bin, cv2.MORPH_OPEN, kernal_v)\n",
    "    img_bin_final=img_bin_h|img_bin_v\n",
    "    _, labels, stats,_ = cv2.connectedComponentsWithStats(~img_bin_final, connectivity=8, ltype=cv2.CV_32S)\n",
    "    \n",
    "    #裁減並辨識\n",
    "    count = 0\n",
    "    last_x2=0\n",
    "    row=1\n",
    "    table_text_list=[]\n",
    "\n",
    "    for x,y,w,h,area in stats[2:]:\n",
    "        count = count +1\n",
    "        if x+w-last_x2 < 0: #如果換行了row + 1\n",
    "            row=row+1\n",
    "        crop_img = image[y:y+h, x:x+w]\n",
    "        cv2.imwrite(\"table_part_result/\"+str(count)+\".jpg\", crop_img)\n",
    "        text = pytesseract.image_to_string(crop_img, lang=\"chi_tra\")\n",
    "        #print(text)\n",
    "        table_text_list.append(text.replace('\\n\\n','\\n'))\n",
    "        last_x2=x+w\n",
    "    #print(table_text_list)\n",
    "    all_row.append(row)\n",
    "    all_table_text_list.append(table_text_list)\n",
    "print(all_table_text_list)"
   ]
  },
  {
   "cell_type": "code",
   "execution_count": 96,
   "id": "e204791c",
   "metadata": {},
   "outputs": [
    {
     "data": {
      "text/html": [
       "<div>\n",
       "<style scoped>\n",
       "    .dataframe tbody tr th:only-of-type {\n",
       "        vertical-align: middle;\n",
       "    }\n",
       "\n",
       "    .dataframe tbody tr th {\n",
       "        vertical-align: top;\n",
       "    }\n",
       "\n",
       "    .dataframe thead tr th {\n",
       "        text-align: left;\n",
       "    }\n",
       "</style>\n",
       "<table border=\"1\" class=\"dataframe\">\n",
       "  <thead>\n",
       "    <tr>\n",
       "      <th></th>\n",
       "      <th>MARKS &amp;\\nNO\\n</th>\n",
       "      <th>DESCRIPTION OF GOODS\\n</th>\n",
       "      <th>QUANTIIY\\n</th>\n",
       "      <th>UNITPRICE\\nUSD\\n</th>\n",
       "      <th>AMMOUNT\\nUSD\\n</th>\n",
       "    </tr>\n",
       "  </thead>\n",
       "  <tbody>\n",
       "    <tr>\n",
       "      <th>1</th>\n",
       "      <td>MADE IN\\nVIETNAM\\n</td>\n",
       "      <td>PO#8000102923\\n7/8 ELASTIC BAND WHIIE\\n7/8 ELA...</td>\n",
       "      <td>29,952.00\\n1,584.00\\n720.00\\n576.00\\n144.00\\n4...</td>\n",
       "      <td>0.0700000\\n0.0940000\\n0.1835500\\n0.2141400\\n0....</td>\n",
       "      <td>2,096.64\\n148.90\\n132.16\\n123.34\\n30.15\\n665.2...</td>\n",
       "    </tr>\n",
       "    <tr>\n",
       "      <th>2</th>\n",
       "      <td></td>\n",
       "      <td>GRAND TOTAL:\\n</td>\n",
       "      <td>40464.00 Y\\n</td>\n",
       "      <td></td>\n",
       "      <td>3,860.37\\n</td>\n",
       "    </tr>\n",
       "  </tbody>\n",
       "</table>\n",
       "</div>"
      ],
      "text/plain": [
       "        MARKS &\\nNO\\n                             DESCRIPTION OF GOODS\\n  \\\n",
       "1  MADE IN\\nVIETNAM\\n  PO#8000102923\\n7/8 ELASTIC BAND WHIIE\\n7/8 ELA...   \n",
       "2                                                         GRAND TOTAL:\\n   \n",
       "\n",
       "                                          QUANTIIY\\n  \\\n",
       "1  29,952.00\\n1,584.00\\n720.00\\n576.00\\n144.00\\n4...   \n",
       "2                                       40464.00 Y\\n   \n",
       "\n",
       "                                    UNITPRICE\\nUSD\\n  \\\n",
       "1  0.0700000\\n0.0940000\\n0.1835500\\n0.2141400\\n0....   \n",
       "2                                                      \n",
       "\n",
       "                                      AMMOUNT\\nUSD\\n  \n",
       "1  2,096.64\\n148.90\\n132.16\\n123.34\\n30.15\\n665.2...  \n",
       "2                                         3,860.37\\n  "
      ]
     },
     "execution_count": 96,
     "metadata": {},
     "output_type": "execute_result"
    }
   ],
   "source": [
    "#重組辨識出來的list變成data frame\n",
    "import pandas as pd\n",
    "all_df_datas=[]\n",
    "for i in range(len(all_table_text_list)):\n",
    "    table_text_list_copy=all_table_text_list[i]\n",
    "    datas=[]\n",
    "    column=int(len(table_text_list_copy)/all_row[i])\n",
    "    for j in range(all_row[i]):\n",
    "        datas.append(table_text_list_copy[j * column: (j+1)*column])\n",
    "    df_datas=pd.DataFrame(datas)\n",
    "    df_datas.columns=[list(df_datas.loc[0])]\n",
    "    df_datas=df_datas.drop([0])\n",
    "    all_df_datas.append(df_datas)\n",
    "    \n",
    "invoice_table_df=all_df_datas[0]\n",
    "invoice_table_df"
   ]
  },
  {
   "cell_type": "code",
   "execution_count": 97,
   "id": "ff1bc473",
   "metadata": {},
   "outputs": [],
   "source": [
    "all_df_datas[0].to_csv(\"all_df_datas.csv\",encoding=\"utf_8_sig\")"
   ]
  },
  {
   "cell_type": "code",
   "execution_count": 98,
   "id": "3c2432ec",
   "metadata": {},
   "outputs": [
    {
     "data": {
      "text/plain": [
       "['PO#8000102923',\n",
       " '7/8 ELASTIC BAND WHIIE',\n",
       " '7/8 ELASTIC BAND BLACK',\n",
       " 'PO#8000102956',\n",
       " '2-1/4 ELASTIC BAND WHIIE',\n",
       " '2-1/2 ELASTIC BAND WHIIE',\n",
       " '2 ” ELLASTIC BAND BLACK',\n",
       " 'PO#8000102855',\n",
       " '1-3/4 ELASTIC BAND BLACK',\n",
       " '2”ELASTIC BAND BLACK',\n",
       " '1/2 FELASTIC BAND BLACK']"
      ]
     },
     "execution_count": 98,
     "metadata": {},
     "output_type": "execute_result"
    }
   ],
   "source": [
    "descriotion_list=invoice_table_df[\"DESCRIPTION OF GOODS\\n\"].iloc[0][0]\n",
    "descriotion_list_split=descriotion_list.split('\\n')\n",
    "while '' in descriotion_list_split:\n",
    "    descriotion_list_split.remove('')\n",
    "descriotion_list_split"
   ]
  },
  {
   "cell_type": "code",
   "execution_count": 99,
   "id": "d8ef41b3",
   "metadata": {},
   "outputs": [
    {
     "data": {
      "text/plain": [
       "['29,952.00',\n",
       " '1,584.00',\n",
       " '720.00',\n",
       " '576.00',\n",
       " '144.00',\n",
       " '4,032.00',\n",
       " '3,024.00',\n",
       " '432.00']"
      ]
     },
     "execution_count": 99,
     "metadata": {},
     "output_type": "execute_result"
    }
   ],
   "source": [
    "quantity_list=invoice_table_df[\"QUANTIIY\\n\"].iloc[0][0]\n",
    "quantity_list_split=quantity_list.split('\\n')\n",
    "while '' in quantity_list_split:\n",
    "    quantity_list_split.remove('')\n",
    "quantity_list_split"
   ]
  },
  {
   "cell_type": "code",
   "execution_count": 100,
   "id": "478c8214",
   "metadata": {},
   "outputs": [
    {
     "data": {
      "text/plain": [
       "[['PO#8000102923', '7/8 ELASTIC BAND WHIIE', '29,952.00'],\n",
       " ['PO#8000102923', '7/8 ELASTIC BAND BLACK', '1,584.00'],\n",
       " ['PO#8000102956', '2-1/4 ELASTIC BAND WHIIE', '720.00'],\n",
       " ['PO#8000102956', '2-1/2 ELASTIC BAND WHIIE', '576.00'],\n",
       " ['PO#8000102956', '2 ” ELLASTIC BAND BLACK', '144.00'],\n",
       " ['PO#8000102855', '1-3/4 ELASTIC BAND BLACK', '4,032.00'],\n",
       " ['PO#8000102855', '2”ELASTIC BAND BLACK', '3,024.00'],\n",
       " ['PO#8000102855', '1/2 FELASTIC BAND BLACK', '432.00']]"
      ]
     },
     "execution_count": 100,
     "metadata": {},
     "output_type": "execute_result"
    }
   ],
   "source": [
    "output_df=[]\n",
    "row=0\n",
    "\n",
    "for i in range(len(descriotion_list_split)):\n",
    "    if \"PO\" in descriotion_list_split[i]:\n",
    "        pono= descriotion_list_split[i]\n",
    "    else:\n",
    "        output_df.append([pono,descriotion_list_split[i],quantity_list_split[row]])\n",
    "        row=row+1\n",
    "output_df"
   ]
  },
  {
   "cell_type": "code",
   "execution_count": null,
   "id": "efaaba99",
   "metadata": {},
   "outputs": [],
   "source": []
  }
 ],
 "metadata": {
  "kernelspec": {
   "display_name": "Python 3.7.8 64-bit",
   "language": "python",
   "name": "python3"
  },
  "language_info": {
   "codemirror_mode": {
    "name": "ipython",
    "version": 3
   },
   "file_extension": ".py",
   "mimetype": "text/x-python",
   "name": "python",
   "nbconvert_exporter": "python",
   "pygments_lexer": "ipython3",
   "version": "3.7.8"
  },
  "vscode": {
   "interpreter": {
    "hash": "95bc2fffddcd692a0f63f7c110cf3e995a5a01e326b6360fea3f59791ab1b7a8"
   }
  }
 },
 "nbformat": 4,
 "nbformat_minor": 5
}
